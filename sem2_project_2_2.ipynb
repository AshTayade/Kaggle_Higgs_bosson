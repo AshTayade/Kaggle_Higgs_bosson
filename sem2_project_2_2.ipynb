{
  "nbformat": 4,
  "nbformat_minor": 0,
  "metadata": {
    "colab": {
      "name": "sem2_project_2.2.ipynb",
      "provenance": [],
      "collapsed_sections": [],
      "include_colab_link": true
    },
    "kernelspec": {
      "display_name": "Python 3",
      "language": "python",
      "name": "python3"
    },
    "language_info": {
      "codemirror_mode": {
        "name": "ipython",
        "version": 3
      },
      "file_extension": ".py",
      "mimetype": "text/x-python",
      "name": "python",
      "nbconvert_exporter": "python",
      "pygments_lexer": "ipython3",
      "version": "3.8.5"
    }
  },
  "cells": [
    {
      "cell_type": "markdown",
      "metadata": {
        "id": "view-in-github",
        "colab_type": "text"
      },
      "source": [
        "<a href=\"https://colab.research.google.com/github/AshTayade/Kaggle_Higgs_bosson/blob/main/sem2_project_2_2.ipynb\" target=\"_parent\"><img src=\"https://colab.research.google.com/assets/colab-badge.svg\" alt=\"Open In Colab\"/></a>"
      ]
    },
    {
      "cell_type": "markdown",
      "metadata": {
        "id": "D0-gd2pnSPcu"
      },
      "source": [
        "# Notebook2: Random forest"
      ]
    },
    {
      "cell_type": "markdown",
      "metadata": {
        "id": "U2G9h1Ihxawx"
      },
      "source": [
        "## We start by importing our data from pickle files "
      ]
    },
    {
      "cell_type": "code",
      "metadata": {
        "id": "kgQJbcZcQNWh"
      },
      "source": [
        "#importing libraries\n",
        "%matplotlib inline\n",
        "import numpy as np\n",
        "import matplotlib\n",
        "import matplotlib.pyplot as plt\n",
        "import matplotlib.mlab as mlab\n",
        "from matplotlib import cm\n",
        "import pandas as pd\n",
        "import seaborn as sns\n",
        "from sklearn.model_selection import train_test_split\n",
        "from sklearn.preprocessing import StandardScaler\n",
        "from sklearn.tree import DecisionTreeClassifier\n",
        "from sklearn.ensemble import RandomForestClassifier\n",
        "from sklearn.metrics import accuracy_score\n",
        "from sklearn.pipeline import Pipeline\n",
        "from sklearn.model_selection import GridSearchCV\n",
        "from sklearn.ensemble import BaggingClassifier, AdaBoostClassifier\n",
        "from matplotlib import colors\n",
        "from sklearn.model_selection import cross_val_score \n",
        "from sklearn.metrics import confusion_matrix \n",
        "from sklearn.metrics import plot_confusion_matrix\n",
        "from sklearn.linear_model import LogisticRegression\n",
        "from sklearn import tree\n",
        "from sklearn.inspection import permutation_importance\n",
        "from sklearn.model_selection import RandomizedSearchCV\n",
        "from sklearn.metrics import accuracy_score\n",
        "from sklearn.metrics import f1_score, make_scorer\n",
        "from sklearn import metrics,preprocessing, tree\n",
        "import pickle\n",
        "import time\n"
      ],
      "execution_count": null,
      "outputs": []
    },
    {
      "cell_type": "code",
      "metadata": {
        "colab": {
          "base_uri": "https://localhost:8080/"
        },
        "id": "mKYobGTI1CZT",
        "outputId": "be148886-e298-4a54-8200-1bc063e4bfee"
      },
      "source": [
        "from google.colab import drive\n",
        "drive.mount('/content/drive')"
      ],
      "execution_count": null,
      "outputs": [
        {
          "output_type": "stream",
          "text": [
            "Mounted at /content/drive\n"
          ],
          "name": "stdout"
        }
      ]
    },
    {
      "cell_type": "code",
      "metadata": {
        "id": "Z5a59SWG0zMF"
      },
      "source": [
        "filename = '/content/drive/MyDrive/Higgs_boson/best_DT.pickle'\n",
        "best_DT = pickle.load(open(filename, 'rb'))\n",
        "\n"
      ],
      "execution_count": null,
      "outputs": []
    },
    {
      "cell_type": "code",
      "metadata": {
        "colab": {
          "base_uri": "https://localhost:8080/"
        },
        "id": "WW7pYM-n2O9y",
        "outputId": "5d4e1ae9-4b64-440d-9233-898bba01c4c0"
      },
      "source": [
        "best_DT"
      ],
      "execution_count": null,
      "outputs": [
        {
          "output_type": "execute_result",
          "data": {
            "text/plain": [
              "DecisionTreeClassifier(ccp_alpha=0.0, class_weight=None, criterion='entropy',\n",
              "                       max_depth=10, max_features=None, max_leaf_nodes=None,\n",
              "                       min_impurity_decrease=0.0, min_impurity_split=None,\n",
              "                       min_samples_leaf=1, min_samples_split=2,\n",
              "                       min_weight_fraction_leaf=0.0, presort='deprecated',\n",
              "                       random_state=None, splitter='best')"
            ]
          },
          "metadata": {
            "tags": []
          },
          "execution_count": 4
        }
      ]
    },
    {
      "cell_type": "code",
      "metadata": {
        "id": "DSSk-P1e2mgE"
      },
      "source": [
        "filename = '/content/drive/MyDrive/Higgs_boson/list_dataset.pickle'\n",
        "dataset_list = pickle.load(open(filename, 'rb'))\n",
        "X_train =dataset_list[0]\n",
        "y_train  =dataset_list[1]\n",
        "X_test = dataset_list[2]\n",
        "y_test =dataset_list[3]"
      ],
      "execution_count": null,
      "outputs": []
    },
    {
      "cell_type": "code",
      "metadata": {
        "id": "cBuYLjtj391K"
      },
      "source": [
        "#prediction = best_DT.predict(X_test)"
      ],
      "execution_count": null,
      "outputs": []
    },
    {
      "cell_type": "code",
      "metadata": {
        "colab": {
          "base_uri": "https://localhost:8080/"
        },
        "id": "16gRyfbu2RXo",
        "outputId": "7ac88fb9-0d7d-45dc-9a9f-0d30ffc2421f"
      },
      "source": [
        "#from sklearn.metrics import accuracy_score\n",
        "#accuracy_score(y_test,prediction)"
      ],
      "execution_count": null,
      "outputs": [
        {
          "output_type": "execute_result",
          "data": {
            "text/plain": [
              "0.8218"
            ]
          },
          "metadata": {
            "tags": []
          },
          "execution_count": 21
        }
      ]
    },
    {
      "cell_type": "markdown",
      "metadata": {
        "id": "-SU4hOw9LUA1"
      },
      "source": [
        "# Ensemble Models"
      ]
    },
    {
      "cell_type": "markdown",
      "metadata": {
        "id": "T_kHt7toSZ6Z"
      },
      "source": [
        "### Ensemble Techniques are of two types namely bagging and boosting. In interest of time and processing power we decided to pick one model from each techinque. Random forest and Adaboost respectively.\n",
        "\n"
      ]
    },
    {
      "cell_type": "markdown",
      "metadata": {
        "id": "Fg7FzZ9qTZv6"
      },
      "source": [
        "### Random forest with OOB instead of cross validation is choosen since it is faster and better with large dataset. Combining bagging with random forest will solve the problem of one feature dominating due to decorelation created by random forest.(as random forest will choose sqr(p) features randomly to split). If we just bag trees and suppose we have a extremly strong predictor and other predictors are moderate. Then greedy ensures that most of the models in ensemble will choose to split on the dominant predictor. Hence we choose random forest with bagging \n"
      ]
    },
    {
      "cell_type": "markdown",
      "metadata": {
        "id": "F2LJUVuwTNFX"
      },
      "source": [
        "### We tried a few estimators in different notebooks and found out 100 or 300 work best with our data and final hyperparameter tunning is been done with those estimators "
      ]
    },
    {
      "cell_type": "code",
      "metadata": {
        "id": "nC-siQ923uhU"
      },
      "source": [
        "RF_model =  RandomForestClassifier(oob_score = True)#random forest object"
      ],
      "execution_count": null,
      "outputs": []
    },
    {
      "cell_type": "code",
      "metadata": {
        "id": "8lpQF7Nr7klj"
      },
      "source": [
        "parameters = { 'max_depth':[3,6,11],\n",
        "              'n_estimators':[100,300],\n",
        "              'min_samples_leaf':[2,3]}"
      ],
      "execution_count": null,
      "outputs": []
    },
    {
      "cell_type": "code",
      "metadata": {
        "id": "Mal98xmaO6f2"
      },
      "source": [
        "scorer = make_scorer(accuracy_score)"
      ],
      "execution_count": null,
      "outputs": []
    },
    {
      "cell_type": "code",
      "metadata": {
        "id": "m6VlpGUoP5k3"
      },
      "source": [
        "grid_obj =  GridSearchCV(RF_model, parameters, scoring= scorer, n_jobs= -1)# gridsearchcv object"
      ],
      "execution_count": null,
      "outputs": []
    },
    {
      "cell_type": "code",
      "metadata": {
        "colab": {
          "base_uri": "https://localhost:8080/"
        },
        "id": "qk6LdLOIQmAF",
        "outputId": "e3968d6b-0b0f-4965-82aa-cf44b2bd8533"
      },
      "source": [
        "start_time = time.time()                            #fiting the grid on training data\n",
        "grid_fit = grid_obj.fit(X_train, y_train)\n",
        "stop_time = time.time()\n",
        "print(\"Code started at : \",time.ctime(start_time))\n",
        "print(\"Code started at : \",time.ctime(stop_time))\n",
        "print(\"Total time taken : \",((stop_time-start_time)/60),\"minutes\")"
      ],
      "execution_count": null,
      "outputs": [
        {
          "output_type": "stream",
          "text": [
            "Code started at :  Wed Apr 14 07:45:56 2021\n",
            "Code started at :  Wed Apr 14 08:44:20 2021\n",
            "Total time taken :  58.40635882218679 minutes\n"
          ],
          "name": "stdout"
        }
      ]
    },
    {
      "cell_type": "code",
      "metadata": {
        "id": "gvj27ByOQwVC"
      },
      "source": [
        "best_RF = grid_fit.best_estimator_"
      ],
      "execution_count": null,
      "outputs": []
    },
    {
      "cell_type": "code",
      "metadata": {
        "colab": {
          "base_uri": "https://localhost:8080/"
        },
        "id": "pgx4-evfRASp",
        "outputId": "37ad4a60-9220-4b3f-8afe-a5c50a4d9c9f"
      },
      "source": [
        "best_RF# our best random forest"
      ],
      "execution_count": null,
      "outputs": [
        {
          "output_type": "execute_result",
          "data": {
            "text/plain": [
              "RandomForestClassifier(bootstrap=True, ccp_alpha=0.0, class_weight=None,\n",
              "                       criterion='gini', max_depth=11, max_features='auto',\n",
              "                       max_leaf_nodes=None, max_samples=None,\n",
              "                       min_impurity_decrease=0.0, min_impurity_split=None,\n",
              "                       min_samples_leaf=3, min_samples_split=2,\n",
              "                       min_weight_fraction_leaf=0.0, n_estimators=300,\n",
              "                       n_jobs=None, oob_score=True, random_state=None,\n",
              "                       verbose=0, warm_start=False)"
            ]
          },
          "metadata": {
            "tags": []
          },
          "execution_count": 27
        }
      ]
    },
    {
      "cell_type": "code",
      "metadata": {
        "id": "lkXljGlmRGRv"
      },
      "source": [
        "pred_RF= best_RF.predict(X_test)"
      ],
      "execution_count": null,
      "outputs": []
    },
    {
      "cell_type": "code",
      "metadata": {
        "colab": {
          "base_uri": "https://localhost:8080/"
        },
        "id": "vJwmaMGQvqdc",
        "outputId": "5888e8d9-9cbb-4b3b-8ca4-07d5f8fec36e"
      },
      "source": [
        "accuracy_score(y_test,pred_RF)"
      ],
      "execution_count": null,
      "outputs": [
        {
          "output_type": "execute_result",
          "data": {
            "text/plain": [
              "0.83156"
            ]
          },
          "metadata": {
            "tags": []
          },
          "execution_count": 23
        }
      ]
    },
    {
      "cell_type": "markdown",
      "metadata": {
        "id": "JXEsGl6lW6es"
      },
      "source": [
        "### Our accuracies with baseline models were 76.7% and 82% and Random forest has an accuracy of 83% which is an improvement\n"
      ]
    },
    {
      "cell_type": "markdown",
      "metadata": {
        "id": "7gxLeqYf85Vo"
      },
      "source": [
        "### Pickling the best estimator we got from gridsearchcv (best random forest model)"
      ]
    },
    {
      "cell_type": "code",
      "metadata": {
        "id": "d3xHtydfXvOk"
      },
      "source": [
        "filename = '/content/drive/MyDrive/Higgs_boson/best_RF.pickle'\n",
        "with open(filename, 'wb') as f:\n",
        "  pickle.dump(best_RF,f)"
      ],
      "execution_count": null,
      "outputs": []
    },
    {
      "cell_type": "code",
      "metadata": {
        "id": "i1IkdzPIQcRQ"
      },
      "source": [
        "filename = '/content/drive/MyDrive/Higgs_boson/grid_fit.pickle'\n",
        "with open(filename, 'wb') as f:\n",
        "  pickle.dump(grid_fit,f)"
      ],
      "execution_count": null,
      "outputs": []
    },
    {
      "cell_type": "markdown",
      "metadata": {
        "id": "2sdEYk0DwEh6"
      },
      "source": [
        "## SMOTE to upsample "
      ]
    },
    {
      "cell_type": "markdown",
      "metadata": {
        "id": "TPDpCvqMXQcy"
      },
      "source": [
        "Random forest is not largely affected by imbalance in the data but we want to see the accuracy after we upsample"
      ]
    },
    {
      "cell_type": "code",
      "metadata": {
        "colab": {
          "base_uri": "https://localhost:8080/"
        },
        "id": "otdcckAEv23L",
        "outputId": "9b777e8e-a260-4de9-8116-db43eedf0df2"
      },
      "source": [
        "from imblearn.over_sampling import SMOTE\n",
        "smt = SMOTE(random_state=0)\n",
        "X_train_SMOTE, y_train_SMOTE = smt.fit_sample(X_train, y_train)\n"
      ],
      "execution_count": null,
      "outputs": [
        {
          "output_type": "stream",
          "text": [
            "/usr/local/lib/python3.7/dist-packages/sklearn/externals/six.py:31: FutureWarning: The module is deprecated in version 0.21 and will be removed in version 0.23 since we've dropped support for Python 2.7. Please rely on the official version of six (https://pypi.org/project/six/).\n",
            "  \"(https://pypi.org/project/six/).\", FutureWarning)\n",
            "/usr/local/lib/python3.7/dist-packages/sklearn/utils/deprecation.py:144: FutureWarning: The sklearn.neighbors.base module is  deprecated in version 0.22 and will be removed in version 0.24. The corresponding classes / functions should instead be imported from sklearn.neighbors. Anything that cannot be imported from sklearn.neighbors is now part of the private API.\n",
            "  warnings.warn(message, FutureWarning)\n",
            "/usr/local/lib/python3.7/dist-packages/sklearn/utils/deprecation.py:87: FutureWarning: Function safe_indexing is deprecated; safe_indexing is deprecated in version 0.22 and will be removed in version 0.24.\n",
            "  warnings.warn(msg, category=FutureWarning)\n"
          ],
          "name": "stderr"
        }
      ]
    },
    {
      "cell_type": "code",
      "metadata": {
        "colab": {
          "base_uri": "https://localhost:8080/"
        },
        "id": "gX4Ec8xYc1jn",
        "outputId": "91959bda-e7aa-4303-bc68-0002f13bbf05"
      },
      "source": [
        "df_SMOTE = pd.DataFrame(X_train_SMOTE)\n",
        "\n",
        "print(df_SMOTE)\n",
        "print(type(df_SMOTE))\n"
      ],
      "execution_count": null,
      "outputs": [
        {
          "output_type": "stream",
          "text": [
            "                0          1          2   ...          20          21          22\n",
            "0       110.810000  10.320000  51.310000  ...  143.581000  127.067000  270.648000\n",
            "1       130.500000  23.935000  96.246000  ...   41.536000 -999.000000   41.536000\n",
            "2       110.048000  46.705000  74.705000  ...   75.850000 -999.000000   75.850000\n",
            "3      -999.000000  74.190000  46.641000  ... -999.000000 -999.000000    0.000000\n",
            "4       115.316000  10.205000  63.730000  ...  180.378000 -999.000000  180.378000\n",
            "...            ...        ...        ...  ...         ...         ...         ...\n",
            "230061  129.217130  46.805929  99.915322  ...  116.913173 -999.000000  116.913173\n",
            "230062  104.425225   4.096135  73.300184  ...   37.390994 -999.000000   37.390994\n",
            "230063  115.579274  24.365426  74.927577  ...  141.169642   54.030176  195.199279\n",
            "230064   89.897743   8.996383  58.180819  ...   36.082619 -999.000000   36.082619\n",
            "230065   82.858988  25.253031  56.292356  ... -999.000000 -999.000000    0.000000\n",
            "\n",
            "[230066 rows x 23 columns]\n",
            "<class 'pandas.core.frame.DataFrame'>\n"
          ],
          "name": "stdout"
        }
      ]
    },
    {
      "cell_type": "code",
      "metadata": {
        "colab": {
          "base_uri": "https://localhost:8080/"
        },
        "id": "RgCufz4VdEce",
        "outputId": "48446566-384a-47c6-a9c7-db953d4595bf"
      },
      "source": [
        "df1_SMOTE = pd.DataFrame(y_train_SMOTE, columns=['Label'])\n",
        "\n",
        "print(df1_SMOTE)\n",
        "print(type(df1_SMOTE))"
      ],
      "execution_count": null,
      "outputs": [
        {
          "output_type": "stream",
          "text": [
            "        Label\n",
            "0           1\n",
            "1           1\n",
            "2           1\n",
            "3           0\n",
            "4           1\n",
            "...       ...\n",
            "230061      1\n",
            "230062      1\n",
            "230063      1\n",
            "230064      1\n",
            "230065      1\n",
            "\n",
            "[230066 rows x 1 columns]\n",
            "<class 'pandas.core.frame.DataFrame'>\n"
          ],
          "name": "stdout"
        }
      ]
    },
    {
      "cell_type": "code",
      "metadata": {
        "id": "P9F7MHPablw5"
      },
      "source": [
        "frames = [df_SMOTE,df1_SMOTE]\n",
        "Xy_train_SMOTE = pd.concat(frames,axis =1)"
      ],
      "execution_count": null,
      "outputs": []
    },
    {
      "cell_type": "code",
      "metadata": {
        "colab": {
          "base_uri": "https://localhost:8080/",
          "height": 224
        },
        "id": "lIptUQPSfmrd",
        "outputId": "6be99759-a37d-4d23-97da-308b8b07e567"
      },
      "source": [
        "Xy_train_SMOTE.head()"
      ],
      "execution_count": null,
      "outputs": [
        {
          "output_type": "execute_result",
          "data": {
            "text/html": [
              "<div>\n",
              "<style scoped>\n",
              "    .dataframe tbody tr th:only-of-type {\n",
              "        vertical-align: middle;\n",
              "    }\n",
              "\n",
              "    .dataframe tbody tr th {\n",
              "        vertical-align: top;\n",
              "    }\n",
              "\n",
              "    .dataframe thead th {\n",
              "        text-align: right;\n",
              "    }\n",
              "</style>\n",
              "<table border=\"1\" class=\"dataframe\">\n",
              "  <thead>\n",
              "    <tr style=\"text-align: right;\">\n",
              "      <th></th>\n",
              "      <th>0</th>\n",
              "      <th>1</th>\n",
              "      <th>2</th>\n",
              "      <th>3</th>\n",
              "      <th>4</th>\n",
              "      <th>5</th>\n",
              "      <th>6</th>\n",
              "      <th>7</th>\n",
              "      <th>8</th>\n",
              "      <th>9</th>\n",
              "      <th>10</th>\n",
              "      <th>11</th>\n",
              "      <th>12</th>\n",
              "      <th>13</th>\n",
              "      <th>14</th>\n",
              "      <th>15</th>\n",
              "      <th>16</th>\n",
              "      <th>17</th>\n",
              "      <th>18</th>\n",
              "      <th>19</th>\n",
              "      <th>20</th>\n",
              "      <th>21</th>\n",
              "      <th>22</th>\n",
              "      <th>Label</th>\n",
              "    </tr>\n",
              "  </thead>\n",
              "  <tbody>\n",
              "    <tr>\n",
              "      <th>0</th>\n",
              "      <td>110.810</td>\n",
              "      <td>10.320</td>\n",
              "      <td>51.310</td>\n",
              "      <td>263.392</td>\n",
              "      <td>2.888</td>\n",
              "      <td>545.566</td>\n",
              "      <td>0.903</td>\n",
              "      <td>7.807</td>\n",
              "      <td>381.077</td>\n",
              "      <td>0.952</td>\n",
              "      <td>1.403</td>\n",
              "      <td>56.581</td>\n",
              "      <td>-0.236</td>\n",
              "      <td>-2.393</td>\n",
              "      <td>53.849</td>\n",
              "      <td>0.629</td>\n",
              "      <td>-2.653</td>\n",
              "      <td>153.901</td>\n",
              "      <td>-2.539</td>\n",
              "      <td>2.0</td>\n",
              "      <td>143.581</td>\n",
              "      <td>127.067</td>\n",
              "      <td>270.648</td>\n",
              "      <td>1</td>\n",
              "    </tr>\n",
              "    <tr>\n",
              "      <th>1</th>\n",
              "      <td>130.500</td>\n",
              "      <td>23.935</td>\n",
              "      <td>96.246</td>\n",
              "      <td>44.201</td>\n",
              "      <td>-999.000</td>\n",
              "      <td>-999.000</td>\n",
              "      <td>2.498</td>\n",
              "      <td>3.385</td>\n",
              "      <td>135.355</td>\n",
              "      <td>0.868</td>\n",
              "      <td>1.397</td>\n",
              "      <td>50.235</td>\n",
              "      <td>0.335</td>\n",
              "      <td>2.396</td>\n",
              "      <td>43.584</td>\n",
              "      <td>1.227</td>\n",
              "      <td>-1.554</td>\n",
              "      <td>6.898</td>\n",
              "      <td>-3.077</td>\n",
              "      <td>1.0</td>\n",
              "      <td>41.536</td>\n",
              "      <td>-999.000</td>\n",
              "      <td>41.536</td>\n",
              "      <td>1</td>\n",
              "    </tr>\n",
              "    <tr>\n",
              "      <th>2</th>\n",
              "      <td>110.048</td>\n",
              "      <td>46.705</td>\n",
              "      <td>74.705</td>\n",
              "      <td>88.036</td>\n",
              "      <td>-999.000</td>\n",
              "      <td>-999.000</td>\n",
              "      <td>1.881</td>\n",
              "      <td>17.398</td>\n",
              "      <td>160.549</td>\n",
              "      <td>1.085</td>\n",
              "      <td>1.228</td>\n",
              "      <td>40.630</td>\n",
              "      <td>-0.463</td>\n",
              "      <td>-0.955</td>\n",
              "      <td>44.069</td>\n",
              "      <td>0.525</td>\n",
              "      <td>-2.556</td>\n",
              "      <td>32.411</td>\n",
              "      <td>-1.224</td>\n",
              "      <td>1.0</td>\n",
              "      <td>75.850</td>\n",
              "      <td>-999.000</td>\n",
              "      <td>75.850</td>\n",
              "      <td>1</td>\n",
              "    </tr>\n",
              "    <tr>\n",
              "      <th>3</th>\n",
              "      <td>-999.000</td>\n",
              "      <td>74.190</td>\n",
              "      <td>46.641</td>\n",
              "      <td>1.646</td>\n",
              "      <td>-999.000</td>\n",
              "      <td>-999.000</td>\n",
              "      <td>1.714</td>\n",
              "      <td>1.646</td>\n",
              "      <td>49.912</td>\n",
              "      <td>1.448</td>\n",
              "      <td>-1.384</td>\n",
              "      <td>20.393</td>\n",
              "      <td>-0.834</td>\n",
              "      <td>-2.848</td>\n",
              "      <td>29.519</td>\n",
              "      <td>0.816</td>\n",
              "      <td>2.972</td>\n",
              "      <td>47.004</td>\n",
              "      <td>0.012</td>\n",
              "      <td>0.0</td>\n",
              "      <td>-999.000</td>\n",
              "      <td>-999.000</td>\n",
              "      <td>0.000</td>\n",
              "      <td>0</td>\n",
              "    </tr>\n",
              "    <tr>\n",
              "      <th>4</th>\n",
              "      <td>115.316</td>\n",
              "      <td>10.205</td>\n",
              "      <td>63.730</td>\n",
              "      <td>180.405</td>\n",
              "      <td>-999.000</td>\n",
              "      <td>-999.000</td>\n",
              "      <td>1.644</td>\n",
              "      <td>0.128</td>\n",
              "      <td>263.332</td>\n",
              "      <td>2.807</td>\n",
              "      <td>0.832</td>\n",
              "      <td>21.791</td>\n",
              "      <td>-1.682</td>\n",
              "      <td>0.638</td>\n",
              "      <td>61.162</td>\n",
              "      <td>-0.249</td>\n",
              "      <td>1.444</td>\n",
              "      <td>104.993</td>\n",
              "      <td>1.571</td>\n",
              "      <td>1.0</td>\n",
              "      <td>180.378</td>\n",
              "      <td>-999.000</td>\n",
              "      <td>180.378</td>\n",
              "      <td>1</td>\n",
              "    </tr>\n",
              "  </tbody>\n",
              "</table>\n",
              "</div>"
            ],
            "text/plain": [
              "         0       1       2        3  ...       20       21       22  Label\n",
              "0  110.810  10.320  51.310  263.392  ...  143.581  127.067  270.648      1\n",
              "1  130.500  23.935  96.246   44.201  ...   41.536 -999.000   41.536      1\n",
              "2  110.048  46.705  74.705   88.036  ...   75.850 -999.000   75.850      1\n",
              "3 -999.000  74.190  46.641    1.646  ... -999.000 -999.000    0.000      0\n",
              "4  115.316  10.205  63.730  180.405  ...  180.378 -999.000  180.378      1\n",
              "\n",
              "[5 rows x 24 columns]"
            ]
          },
          "metadata": {
            "tags": []
          },
          "execution_count": 49
        }
      ]
    },
    {
      "cell_type": "code",
      "metadata": {
        "colab": {
          "base_uri": "https://localhost:8080/",
          "height": 312
        },
        "id": "FintPAcUdgAP",
        "outputId": "cda913a0-3434-4e5f-e89c-4c3c51b0f21b"
      },
      "source": [
        "sns.countplot(x='Label' , data =Xy_train_SMOTE)\n",
        "plt.title('Distribution of signal and background') # to see the distribuation of target variable "
      ],
      "execution_count": null,
      "outputs": [
        {
          "output_type": "execute_result",
          "data": {
            "text/plain": [
              "Text(0.5, 1.0, 'Distribution of signal and background')"
            ]
          },
          "metadata": {
            "tags": []
          },
          "execution_count": 48
        },
        {
          "output_type": "display_data",
          "data": {
            "image/png": "[encoded data removed]",
            "text/plain": [
              "<Figure size 432x288 with 1 Axes>"
            ]
          },
          "metadata": {
            "tags": [],
            "needs_background": "light"
          }
        }
      ]
    },
    {
      "cell_type": "markdown",
      "metadata": {
        "id": "jHwuVO0pUNNF"
      },
      "source": [
        "From the above graph, we can observe that the data is balanced."
      ]
    },
    {
      "cell_type": "code",
      "metadata": {
        "id": "t5QsCpkkeB-W",
        "outputId": "22079afe-8514-454b-85c5-8e03b0631c54"
      },
      "source": [
        "dataset_SMOTE = pickle.load(open('list_dataset_SMOTE/list_dataset_SMOTE.pickle', 'rb'))\n",
        "type(dataset_SMOTE)"
      ],
      "execution_count": null,
      "outputs": [
        {
          "output_type": "execute_result",
          "data": {
            "text/plain": [
              "list"
            ]
          },
          "metadata": {
            "tags": []
          },
          "execution_count": 2
        }
      ]
    },
    {
      "cell_type": "code",
      "metadata": {
        "id": "KoRxUj2OUNNN",
        "outputId": "fab112a9-bb85-4d1b-d413-3b1ff9733465"
      },
      "source": [
        "type(dataset_SMOTE[0])"
      ],
      "execution_count": null,
      "outputs": [
        {
          "output_type": "execute_result",
          "data": {
            "text/plain": [
              "pandas.core.frame.DataFrame"
            ]
          },
          "metadata": {
            "tags": []
          },
          "execution_count": 3
        }
      ]
    },
    {
      "cell_type": "code",
      "metadata": {
        "id": "xmE7kC1RUNNP",
        "outputId": "81d8a68d-e542-48e0-de4a-95a3eb2d186b"
      },
      "source": [
        "dataset_SMOTE[0].head()"
      ],
      "execution_count": null,
      "outputs": [
        {
          "output_type": "execute_result",
          "data": {
            "text/html": [
              "<div>\n",
              "<style scoped>\n",
              "    .dataframe tbody tr th:only-of-type {\n",
              "        vertical-align: middle;\n",
              "    }\n",
              "\n",
              "    .dataframe tbody tr th {\n",
              "        vertical-align: top;\n",
              "    }\n",
              "\n",
              "    .dataframe thead th {\n",
              "        text-align: right;\n",
              "    }\n",
              "</style>\n",
              "<table border=\"1\" class=\"dataframe\">\n",
              "  <thead>\n",
              "    <tr style=\"text-align: right;\">\n",
              "      <th></th>\n",
              "      <th>0</th>\n",
              "      <th>1</th>\n",
              "      <th>2</th>\n",
              "      <th>3</th>\n",
              "      <th>4</th>\n",
              "      <th>5</th>\n",
              "      <th>6</th>\n",
              "      <th>7</th>\n",
              "      <th>8</th>\n",
              "      <th>9</th>\n",
              "      <th>...</th>\n",
              "      <th>13</th>\n",
              "      <th>14</th>\n",
              "      <th>15</th>\n",
              "      <th>16</th>\n",
              "      <th>17</th>\n",
              "      <th>18</th>\n",
              "      <th>19</th>\n",
              "      <th>20</th>\n",
              "      <th>21</th>\n",
              "      <th>22</th>\n",
              "    </tr>\n",
              "  </thead>\n",
              "  <tbody>\n",
              "    <tr>\n",
              "      <th>0</th>\n",
              "      <td>110.810</td>\n",
              "      <td>10.320</td>\n",
              "      <td>51.310</td>\n",
              "      <td>263.392</td>\n",
              "      <td>2.888</td>\n",
              "      <td>545.566</td>\n",
              "      <td>0.903</td>\n",
              "      <td>7.807</td>\n",
              "      <td>381.077</td>\n",
              "      <td>0.952</td>\n",
              "      <td>...</td>\n",
              "      <td>-2.393</td>\n",
              "      <td>53.849</td>\n",
              "      <td>0.629</td>\n",
              "      <td>-2.653</td>\n",
              "      <td>153.901</td>\n",
              "      <td>-2.539</td>\n",
              "      <td>2.0</td>\n",
              "      <td>143.581</td>\n",
              "      <td>127.067</td>\n",
              "      <td>270.648</td>\n",
              "    </tr>\n",
              "    <tr>\n",
              "      <th>1</th>\n",
              "      <td>130.500</td>\n",
              "      <td>23.935</td>\n",
              "      <td>96.246</td>\n",
              "      <td>44.201</td>\n",
              "      <td>-999.000</td>\n",
              "      <td>-999.000</td>\n",
              "      <td>2.498</td>\n",
              "      <td>3.385</td>\n",
              "      <td>135.355</td>\n",
              "      <td>0.868</td>\n",
              "      <td>...</td>\n",
              "      <td>2.396</td>\n",
              "      <td>43.584</td>\n",
              "      <td>1.227</td>\n",
              "      <td>-1.554</td>\n",
              "      <td>6.898</td>\n",
              "      <td>-3.077</td>\n",
              "      <td>1.0</td>\n",
              "      <td>41.536</td>\n",
              "      <td>-999.000</td>\n",
              "      <td>41.536</td>\n",
              "    </tr>\n",
              "    <tr>\n",
              "      <th>2</th>\n",
              "      <td>110.048</td>\n",
              "      <td>46.705</td>\n",
              "      <td>74.705</td>\n",
              "      <td>88.036</td>\n",
              "      <td>-999.000</td>\n",
              "      <td>-999.000</td>\n",
              "      <td>1.881</td>\n",
              "      <td>17.398</td>\n",
              "      <td>160.549</td>\n",
              "      <td>1.085</td>\n",
              "      <td>...</td>\n",
              "      <td>-0.955</td>\n",
              "      <td>44.069</td>\n",
              "      <td>0.525</td>\n",
              "      <td>-2.556</td>\n",
              "      <td>32.411</td>\n",
              "      <td>-1.224</td>\n",
              "      <td>1.0</td>\n",
              "      <td>75.850</td>\n",
              "      <td>-999.000</td>\n",
              "      <td>75.850</td>\n",
              "    </tr>\n",
              "    <tr>\n",
              "      <th>3</th>\n",
              "      <td>-999.000</td>\n",
              "      <td>74.190</td>\n",
              "      <td>46.641</td>\n",
              "      <td>1.646</td>\n",
              "      <td>-999.000</td>\n",
              "      <td>-999.000</td>\n",
              "      <td>1.714</td>\n",
              "      <td>1.646</td>\n",
              "      <td>49.912</td>\n",
              "      <td>1.448</td>\n",
              "      <td>...</td>\n",
              "      <td>-2.848</td>\n",
              "      <td>29.519</td>\n",
              "      <td>0.816</td>\n",
              "      <td>2.972</td>\n",
              "      <td>47.004</td>\n",
              "      <td>0.012</td>\n",
              "      <td>0.0</td>\n",
              "      <td>-999.000</td>\n",
              "      <td>-999.000</td>\n",
              "      <td>0.000</td>\n",
              "    </tr>\n",
              "    <tr>\n",
              "      <th>4</th>\n",
              "      <td>115.316</td>\n",
              "      <td>10.205</td>\n",
              "      <td>63.730</td>\n",
              "      <td>180.405</td>\n",
              "      <td>-999.000</td>\n",
              "      <td>-999.000</td>\n",
              "      <td>1.644</td>\n",
              "      <td>0.128</td>\n",
              "      <td>263.332</td>\n",
              "      <td>2.807</td>\n",
              "      <td>...</td>\n",
              "      <td>0.638</td>\n",
              "      <td>61.162</td>\n",
              "      <td>-0.249</td>\n",
              "      <td>1.444</td>\n",
              "      <td>104.993</td>\n",
              "      <td>1.571</td>\n",
              "      <td>1.0</td>\n",
              "      <td>180.378</td>\n",
              "      <td>-999.000</td>\n",
              "      <td>180.378</td>\n",
              "    </tr>\n",
              "  </tbody>\n",
              "</table>\n",
              "<p>5 rows × 23 columns</p>\n",
              "</div>"
            ],
            "text/plain": [
              "        0       1       2        3        4        5      6       7        8   \\\n",
              "0  110.810  10.320  51.310  263.392    2.888  545.566  0.903   7.807  381.077   \n",
              "1  130.500  23.935  96.246   44.201 -999.000 -999.000  2.498   3.385  135.355   \n",
              "2  110.048  46.705  74.705   88.036 -999.000 -999.000  1.881  17.398  160.549   \n",
              "3 -999.000  74.190  46.641    1.646 -999.000 -999.000  1.714   1.646   49.912   \n",
              "4  115.316  10.205  63.730  180.405 -999.000 -999.000  1.644   0.128  263.332   \n",
              "\n",
              "      9   ...     13      14     15     16       17     18   19       20  \\\n",
              "0  0.952  ... -2.393  53.849  0.629 -2.653  153.901 -2.539  2.0  143.581   \n",
              "1  0.868  ...  2.396  43.584  1.227 -1.554    6.898 -3.077  1.0   41.536   \n",
              "2  1.085  ... -0.955  44.069  0.525 -2.556   32.411 -1.224  1.0   75.850   \n",
              "3  1.448  ... -2.848  29.519  0.816  2.972   47.004  0.012  0.0 -999.000   \n",
              "4  2.807  ...  0.638  61.162 -0.249  1.444  104.993  1.571  1.0  180.378   \n",
              "\n",
              "        21       22  \n",
              "0  127.067  270.648  \n",
              "1 -999.000   41.536  \n",
              "2 -999.000   75.850  \n",
              "3 -999.000    0.000  \n",
              "4 -999.000  180.378  \n",
              "\n",
              "[5 rows x 23 columns]"
            ]
          },
          "metadata": {
            "tags": []
          },
          "execution_count": 4
        }
      ]
    },
    {
      "cell_type": "code",
      "metadata": {
        "id": "s2loXeNhUNNR",
        "outputId": "356ba516-4da8-4e84-b213-601aee3e34cd"
      },
      "source": [
        "dataset_SMOTE[1].head()"
      ],
      "execution_count": null,
      "outputs": [
        {
          "output_type": "execute_result",
          "data": {
            "text/html": [
              "<div>\n",
              "<style scoped>\n",
              "    .dataframe tbody tr th:only-of-type {\n",
              "        vertical-align: middle;\n",
              "    }\n",
              "\n",
              "    .dataframe tbody tr th {\n",
              "        vertical-align: top;\n",
              "    }\n",
              "\n",
              "    .dataframe thead th {\n",
              "        text-align: right;\n",
              "    }\n",
              "</style>\n",
              "<table border=\"1\" class=\"dataframe\">\n",
              "  <thead>\n",
              "    <tr style=\"text-align: right;\">\n",
              "      <th></th>\n",
              "      <th>Label</th>\n",
              "    </tr>\n",
              "  </thead>\n",
              "  <tbody>\n",
              "    <tr>\n",
              "      <th>0</th>\n",
              "      <td>1</td>\n",
              "    </tr>\n",
              "    <tr>\n",
              "      <th>1</th>\n",
              "      <td>1</td>\n",
              "    </tr>\n",
              "    <tr>\n",
              "      <th>2</th>\n",
              "      <td>1</td>\n",
              "    </tr>\n",
              "    <tr>\n",
              "      <th>3</th>\n",
              "      <td>0</td>\n",
              "    </tr>\n",
              "    <tr>\n",
              "      <th>4</th>\n",
              "      <td>1</td>\n",
              "    </tr>\n",
              "  </tbody>\n",
              "</table>\n",
              "</div>"
            ],
            "text/plain": [
              "   Label\n",
              "0      1\n",
              "1      1\n",
              "2      1\n",
              "3      0\n",
              "4      1"
            ]
          },
          "metadata": {
            "tags": []
          },
          "execution_count": 5
        }
      ]
    },
    {
      "cell_type": "code",
      "metadata": {
        "id": "OZuf8AoTUNNV"
      },
      "source": [
        "dataframe_Xtrain_Smote=dataset_SMOTE[0]\n",
        "dataframe_Ytrain_Smote=dataset_SMOTE[1]"
      ],
      "execution_count": null,
      "outputs": []
    },
    {
      "cell_type": "code",
      "metadata": {
        "id": "8030gHNeUNNW",
        "outputId": "e6b949d7-c253-4f70-d62b-a812ad7c4ff8"
      },
      "source": [
        "start_time = time.time()\n",
        "grid_fit_SMOTE = grid_obj.fit(dataframe_Xtrain_Smote,dataframe_Ytrain_Smote)\n",
        "stop_time = time.time()\n",
        "print(\"Code started at : \",time.ctime(start_time))\n",
        "print(\"Code started at : \",time.ctime(stop_time))\n",
        "print(\"Total time taken : \",((stop_time-start_time)/60),\"minutes\")"
      ],
      "execution_count": null,
      "outputs": [
        {
          "output_type": "stream",
          "text": [
            "C:\\Users\\dell\\anaconda3\\lib\\site-packages\\sklearn\\model_selection\\_search.py:880: DataConversionWarning: A column-vector y was passed when a 1d array was expected. Please change the shape of y to (n_samples,), for example using ravel().\n",
            "  self.best_estimator_.fit(X, y, **fit_params)\n"
          ],
          "name": "stderr"
        },
        {
          "output_type": "stream",
          "text": [
            "Code started at :  Wed Apr 14 20:22:30 2021\n",
            "Code started at :  Wed Apr 14 20:52:14 2021\n",
            "Total time taken :  29.745093762874603 minutes\n"
          ],
          "name": "stdout"
        }
      ]
    },
    {
      "cell_type": "code",
      "metadata": {
        "id": "ugGhp07xUNNZ"
      },
      "source": [
        "dataset_list = pickle.load(open('list_dataset/list_dataset.pickle', 'rb'))\n",
        "X_test = dataset_list[2]\n",
        "y_test =dataset_list[3]"
      ],
      "execution_count": null,
      "outputs": []
    },
    {
      "cell_type": "code",
      "metadata": {
        "id": "KDxC-NtIUNNa"
      },
      "source": [
        "best_RF_SMOTE = grid_fit_SMOTE.best_estimator_"
      ],
      "execution_count": null,
      "outputs": []
    },
    {
      "cell_type": "code",
      "metadata": {
        "id": "dllWsv6XUNNc",
        "outputId": "bace8229-03e8-48e7-f463-d8bd444685dc"
      },
      "source": [
        "best_RF_SMOTE"
      ],
      "execution_count": null,
      "outputs": [
        {
          "output_type": "execute_result",
          "data": {
            "text/plain": [
              "RandomForestClassifier(max_depth=11, min_samples_leaf=2, n_estimators=300,\n",
              "                       oob_score=True)"
            ]
          },
          "metadata": {
            "tags": []
          },
          "execution_count": 15
        }
      ]
    },
    {
      "cell_type": "code",
      "metadata": {
        "id": "gZJJ4vvtUNNd"
      },
      "source": [
        "pred_RF_SMOTE= best_RF_SMOTE.predict(X_test)"
      ],
      "execution_count": null,
      "outputs": []
    },
    {
      "cell_type": "code",
      "metadata": {
        "id": "HoN2g0DmUNNe",
        "outputId": "dc63dd4f-9dad-46bc-8516-68faeb365052"
      },
      "source": [
        "accuracy_score(y_test,pred_RF_SMOTE)"
      ],
      "execution_count": null,
      "outputs": [
        {
          "output_type": "execute_result",
          "data": {
            "text/plain": [
              "0.8180666666666667"
            ]
          },
          "metadata": {
            "tags": []
          },
          "execution_count": 17
        }
      ]
    },
    {
      "cell_type": "code",
      "metadata": {
        "id": "n_ssfXStUNNf",
        "outputId": "881c65d3-a16d-4dc4-86c7-6794d72c2250"
      },
      "source": [
        "from sklearn.metrics import f1_score\n",
        "f1_score(y_test, pred_RF_SMOTE , average='weighted')\n"
      ],
      "execution_count": null,
      "outputs": [
        {
          "output_type": "execute_result",
          "data": {
            "text/plain": [
              "0.820990200722813"
            ]
          },
          "metadata": {
            "tags": []
          },
          "execution_count": 19
        }
      ]
    },
    {
      "cell_type": "markdown",
      "metadata": {
        "id": "hkvcT9a9UNNg"
      },
      "source": [
        "The f1_score acheived for Random Forest after SMOTE is 82.09."
      ]
    }
  ]
}