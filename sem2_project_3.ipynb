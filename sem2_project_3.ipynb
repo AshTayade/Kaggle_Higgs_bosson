{
  "nbformat": 4,
  "nbformat_minor": 0,
  "metadata": {
    "colab": {
      "name": "sem2_project_3.ipynb",
      "provenance": [],
      "collapsed_sections": [],
      "authorship_tag": "ABX9TyNiWtZtq3oEGhKekhd8cPxR",
      "include_colab_link": true
    },
    "kernelspec": {
      "name": "python3",
      "display_name": "Python 3"
    },
    "language_info": {
      "name": "python"
    }
  },
  "cells": [
    {
      "cell_type": "markdown",
      "metadata": {
        "id": "view-in-github",
        "colab_type": "text"
      },
      "source": [
        "<a href=\"https://colab.research.google.com/github/AshTayade/Kaggle_Higgs_bosson/blob/main/sem2_project_3.ipynb\" target=\"_parent\"><img src=\"https://colab.research.google.com/assets/colab-badge.svg\" alt=\"Open In Colab\"/></a>"
      ]
    },
    {
      "cell_type": "markdown",
      "metadata": {
        "id": "jHEGtg4WZn9I"
      },
      "source": [
        "#Notebook 3"
      ]
    },
    {
      "cell_type": "markdown",
      "metadata": {
        "id": "OMdinK45xBnj"
      },
      "source": [
        "##After trying a bagging ensemble technique we are going to try a boosting ensemble technique.We chose Adaboost because we wanted to experiment with different learning rates. Adaboost is not prone to overfitting and we slightly overfit random forest to get better accuracy hence Adaboost would be a good model to compare with Random forest model."
      ]
    },
    {
      "cell_type": "markdown",
      "metadata": {
        "id": "9hMqZaxjxRmL"
      },
      "source": [
        "#Adaboost"
      ]
    },
    {
      "cell_type": "code",
      "metadata": {
        "id": "kgQJbcZcQNWh"
      },
      "source": [
        "#importing libraries\n",
        "%matplotlib inline\n",
        "import numpy as np\n",
        "import matplotlib\n",
        "import matplotlib.pyplot as plt\n",
        "import matplotlib.mlab as mlab\n",
        "from matplotlib import cm\n",
        "import pandas as pd\n",
        "import seaborn as sns\n",
        "from sklearn.model_selection import train_test_split\n",
        "from sklearn.preprocessing import StandardScaler\n",
        "from sklearn.tree import DecisionTreeClassifier\n",
        "from sklearn.ensemble import RandomForestClassifier\n",
        "from sklearn.metrics import accuracy_score\n",
        "from sklearn.pipeline import Pipeline\n",
        "from sklearn.model_selection import GridSearchCV\n",
        "from sklearn.ensemble import BaggingClassifier, AdaBoostClassifier\n",
        "from matplotlib import colors\n",
        "from sklearn.model_selection import cross_val_score \n",
        "from sklearn.metrics import confusion_matrix \n",
        "from sklearn.metrics import plot_confusion_matrix\n",
        "from sklearn.linear_model import LogisticRegression\n",
        "from sklearn import tree\n",
        "from sklearn.inspection import permutation_importance\n",
        "from sklearn.model_selection import RandomizedSearchCV\n",
        "from sklearn.metrics import accuracy_score\n",
        "from sklearn.metrics import f1_score, make_scorer\n",
        "from sklearn import metrics,preprocessing, tree\n",
        "from sklearn.ensemble import AdaBoostClassifier\n",
        "import pickle\n",
        "import time\n"
      ],
      "execution_count": null,
      "outputs": []
    },
    {
      "cell_type": "code",
      "metadata": {
        "colab": {
          "base_uri": "https://localhost:8080/"
        },
        "id": "mKYobGTI1CZT",
        "outputId": "d3fc9fdb-a596-4397-b7a6-9184904cd7e2"
      },
      "source": [
        "from google.colab import drive\n",
        "drive.mount('/content/drive')"
      ],
      "execution_count": null,
      "outputs": [
        {
          "output_type": "stream",
          "text": [
            "Drive already mounted at /content/drive; to attempt to forcibly remount, call drive.mount(\"/content/drive\", force_remount=True).\n"
          ],
          "name": "stdout"
        }
      ]
    },
    {
      "cell_type": "markdown",
      "metadata": {
        "id": "mVEXZ2CmDuQP"
      },
      "source": [
        "Getting our pickled data from drive"
      ]
    },
    {
      "cell_type": "code",
      "metadata": {
        "id": "DSSk-P1e2mgE"
      },
      "source": [
        "filename = '/content/drive/MyDrive/Higgs_boson/list_dataset.pickle'\n",
        "dataset_list = pickle.load(open(filename, 'rb'))\n",
        "X_train =dataset_list[0]\n",
        "y_train  =dataset_list[1]\n",
        "X_test = dataset_list[2]\n",
        "y_test =dataset_list[3]"
      ],
      "execution_count": null,
      "outputs": []
    },
    {
      "cell_type": "code",
      "metadata": {
        "colab": {
          "base_uri": "https://localhost:8080/"
        },
        "id": "3-OipdYHLe_u",
        "outputId": "04a8fe4b-4fb4-4913-cf69-f296b43cf979"
      },
      "source": [
        "#X_test.shape"
      ],
      "execution_count": null,
      "outputs": [
        {
          "output_type": "execute_result",
          "data": {
            "text/plain": [
              "(75000, 23)"
            ]
          },
          "metadata": {
            "tags": []
          },
          "execution_count": 6
        }
      ]
    },
    {
      "cell_type": "code",
      "metadata": {
        "id": "IcOw4LaiLzIr"
      },
      "source": [
        "boost = AdaBoostClassifier() # adaboost instance"
      ],
      "execution_count": null,
      "outputs": []
    },
    {
      "cell_type": "code",
      "metadata": {
        "id": "JIufz_ORMRZg"
      },
      "source": [
        "param_grid = {'n_estimators':[100,200,300], 'learning_rate':[0.01, 0.1, 1],} #param grid dictionary"
      ],
      "execution_count": null,
      "outputs": []
    },
    {
      "cell_type": "code",
      "metadata": {
        "id": "F6Rg31qHNckX"
      },
      "source": [
        "gridcv = GridSearchCV(boost, param_grid,cv=3,n_jobs=-1 ) #gridsearchcv object"
      ],
      "execution_count": null,
      "outputs": []
    },
    {
      "cell_type": "markdown",
      "metadata": {
        "id": "w6Ru8zVAwkqs"
      },
      "source": [
        "####Running gridcv fit code on another powerful machine and pickling the grid results then importing them into this google colab Notebook"
      ]
    },
    {
      "cell_type": "code",
      "metadata": {
        "id": "MldJkUTUN2tl"
      },
      "source": [
        "start_time = time.time()\n",
        "gridcv.fit(X_train,y_train)\n",
        "stop_time = time.time()\n",
        "print(\"Code started at : \",time.ctime(start_time))\n",
        "print(\"Code started at : \",time.ctime(stop_time))\n",
        "print(\"Total time taken : \",((stop_time-start_time)/60),\"minutes\")"
      ],
      "execution_count": null,
      "outputs": []
    },
    {
      "cell_type": "markdown",
      "metadata": {
        "id": "byUW9wj1xMp-"
      },
      "source": [
        "Above cell ran in another machine for computation speed"
      ]
    },
    {
      "cell_type": "code",
      "metadata": {
        "colab": {
          "base_uri": "https://localhost:8080/"
        },
        "id": "Zic7j8mru9Pd",
        "outputId": "9af3c2f5-f963-43dc-8b5a-a1154825b0b5"
      },
      "source": [
        "filename = '/content/drive/MyDrive/Higgs_boson/ada_grid.pickle'\n",
        "best_ada = pickle.load(open(filename, 'rb'))"
      ],
      "execution_count": null,
      "outputs": [
        {
          "output_type": "stream",
          "text": [
            "/usr/local/lib/python3.7/dist-packages/sklearn/base.py:318: UserWarning: Trying to unpickle estimator DecisionTreeClassifier from version 0.23.2 when using version 0.22.2.post1. This might lead to breaking code or invalid results. Use at your own risk.\n",
            "  UserWarning)\n",
            "/usr/local/lib/python3.7/dist-packages/sklearn/base.py:318: UserWarning: Trying to unpickle estimator AdaBoostClassifier from version 0.23.2 when using version 0.22.2.post1. This might lead to breaking code or invalid results. Use at your own risk.\n",
            "  UserWarning)\n"
          ],
          "name": "stderr"
        }
      ]
    },
    {
      "cell_type": "markdown",
      "metadata": {
        "id": "Bi30cAxxEI3V"
      },
      "source": [
        "Following is our best adaboost model "
      ]
    },
    {
      "cell_type": "code",
      "metadata": {
        "id": "_v8tqdMIOX3I",
        "colab": {
          "base_uri": "https://localhost:8080/"
        },
        "outputId": "42be5818-2460-4cae-f911-8876bec9015f"
      },
      "source": [
        "best_ada # best adaboost model  "
      ],
      "execution_count": null,
      "outputs": [
        {
          "output_type": "execute_result",
          "data": {
            "text/plain": [
              "AdaBoostClassifier(algorithm='SAMME.R', base_estimator=None, learning_rate=1,\n",
              "                   n_estimators=300, random_state=None)"
            ]
          },
          "metadata": {
            "tags": []
          },
          "execution_count": 22
        }
      ]
    },
    {
      "cell_type": "code",
      "metadata": {
        "id": "90qSrg5z3UfR"
      },
      "source": [
        "pred_ada = best_ada.predict(X_test)\n"
      ],
      "execution_count": null,
      "outputs": []
    },
    {
      "cell_type": "code",
      "metadata": {
        "colab": {
          "base_uri": "https://localhost:8080/"
        },
        "id": "AMHhmvD33uEs",
        "outputId": "92d410db-18cc-40a5-e25b-655269c1751f"
      },
      "source": [
        "accuracy_score(y_test,pred_ada)"
      ],
      "execution_count": null,
      "outputs": [
        {
          "output_type": "execute_result",
          "data": {
            "text/plain": [
              "0.8185733333333334"
            ]
          },
          "metadata": {
            "tags": []
          },
          "execution_count": 25
        }
      ]
    },
    {
      "cell_type": "markdown",
      "metadata": {
        "id": "z31Ntk6tPigY"
      },
      "source": [
        "here insert f1 score"
      ]
    },
    {
      "cell_type": "code",
      "metadata": {
        "colab": {
          "base_uri": "https://localhost:8080/"
        },
        "id": "lQFnTCyIV_Rg",
        "outputId": "a012b951-367d-465b-fc76-9bbfd936444b"
      },
      "source": [
        "from sklearn.metrics import f1_score\n",
        "f1_score(y_test, pred_ada , average='weighted')\n"
      ],
      "execution_count": null,
      "outputs": [
        {
          "output_type": "execute_result",
          "data": {
            "text/plain": [
              "0.8169849852532735"
            ]
          },
          "metadata": {
            "tags": []
          },
          "execution_count": 36
        }
      ]
    },
    {
      "cell_type": "markdown",
      "metadata": {
        "id": "WY-XXjhwWdEN"
      },
      "source": [
        "The f1_score acheived for Adaboost is 81.69%"
      ]
    },
    {
      "cell_type": "markdown",
      "metadata": {
        "id": "39502k0F4Dng"
      },
      "source": [
        "##81% accuracy slighly less compared to Random forest which gave 83% accuracy"
      ]
    },
    {
      "cell_type": "markdown",
      "metadata": {
        "id": "odFNq8pO4UPa"
      },
      "source": [
        "##Using SMOTE to upsample the data"
      ]
    },
    {
      "cell_type": "markdown",
      "metadata": {
        "id": "IV01hLvSPuJO"
      },
      "source": [
        "we have used smote in notebook 2 to upsample data . Then we have pickled the smote data and ssaved it to drive .In the following cell we are downloading the pickled smote data in this notebook. "
      ]
    },
    {
      "cell_type": "code",
      "metadata": {
        "id": "f9r9ElsZ4e7u"
      },
      "source": [
        "filename = '/content/drive/MyDrive/Higgs_boson/list_dataset_SMOTE.pickle'\n",
        "dataset_list = pickle.load(open(filename, 'rb'))\n",
        "X_train_smote =dataset_list[0]\n",
        "y_train_smote  =dataset_list[1]"
      ],
      "execution_count": null,
      "outputs": []
    },
    {
      "cell_type": "code",
      "metadata": {
        "colab": {
          "base_uri": "https://localhost:8080/"
        },
        "id": "c7R13Kwn5-4Z",
        "outputId": "48e60dfd-cb2b-4e16-baea-15d9f0fbba25"
      },
      "source": [
        "X_train_smote.shape, y_train_smote.shape # checking if its the correct shape"
      ],
      "execution_count": null,
      "outputs": [
        {
          "output_type": "execute_result",
          "data": {
            "text/plain": [
              "((230066, 23), (230066, 1))"
            ]
          },
          "metadata": {
            "tags": []
          },
          "execution_count": 29
        }
      ]
    },
    {
      "cell_type": "markdown",
      "metadata": {
        "id": "H677lrqm62uQ"
      },
      "source": [
        "###Same parameters which we used for the imbalanced data"
      ]
    },
    {
      "cell_type": "code",
      "metadata": {
        "id": "nZAElAgW7mIJ"
      },
      "source": [
        "boost = AdaBoostClassifier() #adaboost object "
      ],
      "execution_count": null,
      "outputs": []
    },
    {
      "cell_type": "code",
      "metadata": {
        "id": "3WVaNKq66jBT"
      },
      "source": [
        "param_grid = {'n_estimators':[100,200,300], 'learning_rate':[0.01, 0.1, 1],} # dictionary of hyperparameters"
      ],
      "execution_count": null,
      "outputs": []
    },
    {
      "cell_type": "code",
      "metadata": {
        "id": "iSJEJML56gTy"
      },
      "source": [
        "grid = GridSearchCV(boost, param_grid,cv=3,n_jobs=-1 ) # grid object"
      ],
      "execution_count": null,
      "outputs": []
    },
    {
      "cell_type": "markdown",
      "metadata": {
        "id": "HzJJn00nQd8A"
      },
      "source": [
        "####Running gridcv fit code on another powerful machine and pickling the grid results then importing them into this google colab Notebook"
      ]
    },
    {
      "cell_type": "code",
      "metadata": {
        "id": "chxL-s9r7tUh"
      },
      "source": [
        "start_time = time.time()\n",
        "grid.fit(X_train_smote,y_train_smote)\n",
        "stop_time = time.time()\n",
        "print(\"Code started at : \",time.ctime(start_time))\n",
        "print(\"Code started at : \",time.ctime(stop_time))\n",
        "print(\"Total time taken : \",((stop_time-start_time)/60),\"minutes\")"
      ],
      "execution_count": null,
      "outputs": []
    },
    {
      "cell_type": "markdown",
      "metadata": {
        "id": "pSmt1IPuQq-1"
      },
      "source": [
        "Above cell ran in another machine for faster computation"
      ]
    },
    {
      "cell_type": "code",
      "metadata": {
        "id": "Wja3bcwX6jkN"
      },
      "source": [
        "best_ada_smote  = grid.best_estimator_"
      ],
      "execution_count": null,
      "outputs": []
    },
    {
      "cell_type": "markdown",
      "metadata": {
        "id": "PBy7fmEd9N7B"
      },
      "source": [
        "Since the grid.fit ran in another computer we have pickled results to import them in this notebook"
      ]
    },
    {
      "cell_type": "code",
      "metadata": {
        "colab": {
          "base_uri": "https://localhost:8080/"
        },
        "id": "ftIjgRS1Q8OQ",
        "outputId": "e47d9e64-d891-4334-f986-6a4ad9773b73"
      },
      "source": [
        "filename = '/content/drive/MyDrive/Higgs_boson/best_ada_smote.pickle'\n",
        "best_ada_smote = pickle.load(open(filename, 'rb'))"
      ],
      "execution_count": null,
      "outputs": [
        {
          "output_type": "stream",
          "text": [
            "/usr/local/lib/python3.7/dist-packages/sklearn/base.py:318: UserWarning: Trying to unpickle estimator DecisionTreeClassifier from version 0.23.2 when using version 0.22.2.post1. This might lead to breaking code or invalid results. Use at your own risk.\n",
            "  UserWarning)\n",
            "/usr/local/lib/python3.7/dist-packages/sklearn/base.py:318: UserWarning: Trying to unpickle estimator AdaBoostClassifier from version 0.23.2 when using version 0.22.2.post1. This might lead to breaking code or invalid results. Use at your own risk.\n",
            "  UserWarning)\n"
          ],
          "name": "stderr"
        }
      ]
    },
    {
      "cell_type": "code",
      "metadata": {
        "colab": {
          "base_uri": "https://localhost:8080/"
        },
        "id": "BH7VN1t3R0Fx",
        "outputId": "d09b930f-cafc-4c71-aeb9-fcf68e4df67b"
      },
      "source": [
        "best_ada_smote"
      ],
      "execution_count": null,
      "outputs": [
        {
          "output_type": "execute_result",
          "data": {
            "text/plain": [
              "AdaBoostClassifier(algorithm='SAMME.R', base_estimator=None, learning_rate=1,\n",
              "                   n_estimators=300, random_state=None)"
            ]
          },
          "metadata": {
            "tags": []
          },
          "execution_count": 32
        }
      ]
    },
    {
      "cell_type": "code",
      "metadata": {
        "id": "ZKaEZjQcSIon"
      },
      "source": [
        "pred_ada_smote = best_ada_smote.predict(X_test)"
      ],
      "execution_count": null,
      "outputs": []
    },
    {
      "cell_type": "code",
      "metadata": {
        "colab": {
          "base_uri": "https://localhost:8080/"
        },
        "id": "t80vHGGJSdxY",
        "outputId": "659fac90-25de-48c7-98fa-0693c7e74fad"
      },
      "source": [
        "accuracy_score(y_test,pred_ada_smote)"
      ],
      "execution_count": null,
      "outputs": [
        {
          "output_type": "execute_result",
          "data": {
            "text/plain": [
              "0.7982666666666667"
            ]
          },
          "metadata": {
            "tags": []
          },
          "execution_count": 34
        }
      ]
    },
    {
      "cell_type": "markdown",
      "metadata": {
        "id": "abE_3--MVv8S"
      },
      "source": [
        "Accuracy of 79.83% after SMOTE"
      ]
    },
    {
      "cell_type": "markdown",
      "metadata": {
        "id": "pJt3wdgQSkr4"
      },
      "source": [
        "f1 score"
      ]
    },
    {
      "cell_type": "code",
      "metadata": {
        "id": "n_ssfXStUNNf",
        "colab": {
          "base_uri": "https://localhost:8080/"
        },
        "outputId": "e47650e0-913e-4650-acfb-6211a2af5e18"
      },
      "source": [
        "from sklearn.metrics import f1_score\n",
        "f1_score(y_test, pred_ada_smote , average='weighted')\n"
      ],
      "execution_count": null,
      "outputs": [
        {
          "output_type": "execute_result",
          "data": {
            "text/plain": [
              "0.8014969211526923"
            ]
          },
          "metadata": {
            "tags": []
          },
          "execution_count": 35
        }
      ]
    },
    {
      "cell_type": "markdown",
      "metadata": {
        "id": "hkvcT9a9UNNg"
      },
      "source": [
        "The f1_score acheived for Adaboost after SMOTE is 80.15%"
      ]
    },
    {
      "cell_type": "markdown",
      "metadata": {
        "id": "8JgWVBahfUNI"
      },
      "source": [
        "##Conclusion"
      ]
    },
    {
      "cell_type": "markdown",
      "metadata": {
        "id": "BiAKWtkgfaL5"
      },
      "source": [
        "The f1_score acheived for Adaboost is 81.69%"
      ]
    },
    {
      "cell_type": "markdown",
      "metadata": {
        "id": "kwTzLd89fzSN"
      },
      "source": [
        "The f1_score acheived for Adaboost after SMOTE is 80.15%"
      ]
    },
    {
      "cell_type": "markdown",
      "metadata": {
        "id": "btfoxsXPf_Xk"
      },
      "source": [
        "The f1_score acheived for Random Forest after SMOTE is 82.09."
      ]
    },
    {
      "cell_type": "markdown",
      "metadata": {
        "id": "Y-xi7NhWhOR5"
      },
      "source": [
        "####The F1 score for random forest is 83.0%"
      ]
    },
    {
      "cell_type": "markdown",
      "metadata": {
        "id": "MgIFPYDghe2y"
      },
      "source": [
        "Our random forest Model has performed better than Adaboost and with more hyper parameter tunning the accuracy and F1 score can be increased. We think random forest perfect better because its not very sensitive towards imbalanced data "
      ]
    },
    {
      "cell_type": "markdown",
      "metadata": {
        "id": "J1NUrgDYh2qk"
      },
      "source": [
        "### We would want to try Xgboost with different base models and neural network for this data set for further improvment "
      ]
    }
  ]
}